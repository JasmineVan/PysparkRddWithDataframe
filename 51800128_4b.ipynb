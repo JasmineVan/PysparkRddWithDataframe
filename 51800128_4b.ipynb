{
  "nbformat": 4,
  "nbformat_minor": 0,
  "metadata": {
    "colab": {
      "provenance": [],
      "collapsed_sections": [],
      "authorship_tag": "ABX9TyN5tRi7QwMjqENYGr6rNOMI",
      "include_colab_link": true
    },
    "kernelspec": {
      "name": "python3",
      "display_name": "Python 3"
    },
    "language_info": {
      "name": "python"
    }
  },
  "cells": [
    {
      "cell_type": "markdown",
      "metadata": {
        "id": "view-in-github",
        "colab_type": "text"
      },
      "source": [
        "<a href=\"https://colab.research.google.com/github/JasmineVan/PysparkRddWithDataframe/blob/main/51800128_4b.ipynb\" target=\"_parent\"><img src=\"https://colab.research.google.com/assets/colab-badge.svg\" alt=\"Open In Colab\"/></a>"
      ]
    },
    {
      "cell_type": "code",
      "execution_count": 1,
      "metadata": {
        "id": "Li8FZrhVBkBZ"
      },
      "outputs": [],
      "source": [
        "!apt-get install openjdk-8-jdk-headless -qq > /dev/null\n",
        "!wget -q http://archive.apache.org/dist/spark/spark-3.1.1/spark-3.1.1-bin-hadoop3.2.tgz\n",
        "!tar xf spark-3.1.1-bin-hadoop3.2.tgz\n",
        "!pip install -q findspark"
      ]
    },
    {
      "cell_type": "code",
      "source": [
        "import os\n",
        "os.environ[\"JAVA_HOME\"] = \"/usr/lib/jvm/java-8-openjdk-amd64\"\n",
        "os.environ[\"SPARK_HOME\"] = \"/content/spark-3.1.1-bin-hadoop3.2\""
      ],
      "metadata": {
        "id": "EN7NWsa4Bng_"
      },
      "execution_count": 2,
      "outputs": []
    },
    {
      "cell_type": "code",
      "source": [
        "import findspark\n",
        "findspark.init()"
      ],
      "metadata": {
        "id": "5YWFIgpGBpB9"
      },
      "execution_count": 3,
      "outputs": []
    },
    {
      "cell_type": "code",
      "source": [
        "from pyspark import SparkContext\n",
        "\n",
        "sc = SparkContext(\"local\", \"4b case count\")"
      ],
      "metadata": {
        "id": "Rufen_QjBrI6"
      },
      "execution_count": 4,
      "outputs": []
    },
    {
      "cell_type": "code",
      "source": [
        "from google.colab import drive\n",
        "drive.mount('/content/drive')"
      ],
      "metadata": {
        "colab": {
          "base_uri": "https://localhost:8080/"
        },
        "id": "hSMFz8MIBt5y",
        "outputId": "37b9c7fa-fc3c-4a46-8954-77d121385538"
      },
      "execution_count": 5,
      "outputs": [
        {
          "output_type": "stream",
          "name": "stdout",
          "text": [
            "Mounted at /content/drive\n"
          ]
        }
      ]
    },
    {
      "cell_type": "code",
      "source": [
        "from pyspark.sql import SQLContext\n",
        "import pandas as pd\n",
        "\n",
        "sqlc = SQLContext(sc)"
      ],
      "metadata": {
        "id": "ZhIjiucsB6ou"
      },
      "execution_count": 30,
      "outputs": []
    },
    {
      "cell_type": "code",
      "source": [
        "# Please change file dir\n",
        "path = '/content/drive/MyDrive/Colab_Notebooks/DLL/WHO-COVID-19-global.csv'"
      ],
      "metadata": {
        "id": "rq9t8BZIBwC9"
      },
      "execution_count": 37,
      "outputs": []
    },
    {
      "cell_type": "code",
      "source": [
        "df = sqlc.read.csv(path, header=True)\n",
        "df.show()"
      ],
      "metadata": {
        "colab": {
          "base_uri": "https://localhost:8080/"
        },
        "id": "G7fVNQZbFbsS",
        "outputId": "c7e081f6-0094-4a8d-e42b-df8784bedee5"
      },
      "execution_count": 38,
      "outputs": [
        {
          "output_type": "stream",
          "name": "stdout",
          "text": [
            "+--------------------+--------------------+------------------------+----------------------------------------------+-------------------------------------+-----------------------------------------------------------+---------------------------------------+-------------------------+-----------------------------------------------+--------------------------------------+------------------------------------------------------------+----------------------------------------+\n",
            "|                Name|          WHO Region|Cases - cumulative total|Cases - cumulative total per 100000 population|Cases - newly reported in last 7 days|Cases - newly reported in last 7 days per 100000 population|Cases - newly reported in last 24 hours|Deaths - cumulative total|Deaths - cumulative total per 100000 population|Deaths - newly reported in last 7 days|Deaths - newly reported in last 7 days per 100000 population|Deaths - newly reported in last 24 hours|\n",
            "+--------------------+--------------------+------------------------+----------------------------------------------+-------------------------------------+-----------------------------------------------------------+---------------------------------------+-------------------------+-----------------------------------------------+--------------------------------------+------------------------------------------------------------+----------------------------------------+\n",
            "|United States of ...|            Americas|                93580725|                                     28271.896|                               476675|                                                    144.009|                                  25686|                  1036949|                                        313.275|                                  2423|                                                       0.732|                                      67|\n",
            "|               India|     South-East Asia|                44472241|                                      3222.616|                                43848|                                                      3.177|                                   5379|                   528057|                                         38.265|                                   183|                                                       0.013|                                      27|\n",
            "|              Brazil|            Americas|                34477539|                                     16220.189|                                80334|                                                     37.794|                                      0|                   684425|                                        321.992|                                   803|                                                       0.378|                                       0|\n",
            "|              France|              Europe|                33599863|                                     51660.815|                               105883|                                                    162.798|                                  26918|                   150804|                                        231.866|                                   281|                                                       0.432|                                      60|\n",
            "|             Germany|              Europe|                32344032|                                     38890.599|                               181064|                                                    217.712|                                  33311|                   147981|                                        177.933|                                    45|                                                       0.054|                                       4|\n",
            "|   Republic of Korea|     Western Pacific|                23791961|                                     46405.967|                               545637|                                                   1064.259|                                  85540|                    27249|                                         53.149|                                   485|                                                       0.946|                                      56|\n",
            "|  The United Kingdom|              Europe|                23522244|                                     34649.622|                                 2853|                                                      4.203|                                      0|                   188242|                                        277.291|                                     0|                                                           0|                                       0|\n",
            "|               Italy|              Europe|                21969725|                                     36836.313|                               123782|                                                    207.543|                                  24848|                   175952|                                        295.016|                                   447|                                                       0.749|                                      80|\n",
            "|  Russian Federation|              Europe|                19857571|                                     13607.184|                               328602|                                                    225.171|                                  47958|                   384976|                                        263.801|                                   630|                                                       0.432|                                      94|\n",
            "|               Japan|     Western Pacific|                19635246|                                     15524.822|                               863242|                                                    682.532|                                 100729|                    41575|                                         32.872|                                  2011|                                                        1.59|                                     282|\n",
            "|             Türkiye|              Europe|                16797750|                                     19916.927|                                    0|                                                          0|                                      0|                   100840|                                        119.565|                                     0|                                                           0|                                       0|\n",
            "|               Spain|              Europe|                13358722|                                     28223.081|                                16192|                                                     34.209|                                   6703|                   112903|                                        238.531|                                   303|                                                        0.64|                                      99|\n",
            "|            Viet Nam|     Western Pacific|                11424754|                                     11737.128|                                15802|                                                     16.234|                                   3699|                    43123|                                         44.302|                                     6|                                                       0.006|                                       1|\n",
            "|           Australia|     Western Pacific|                10084917|                                     39548.874|                                67015|                                                    262.805|                                   9251|                    14152|                                         55.498|                                   318|                                                       1.247|                                      75|\n",
            "|           Argentina|            Americas|                 9689861|                                      21439.75|                                11636|                                                     25.746|                                      0|                   129769|                                        287.126|                                    58|                                                       0.128|                                       0|\n",
            "|         Netherlands|              Europe|                 8392953|                                     48214.344|                                 7856|                                                      45.13|                                   1453|                    22609|                                         129.88|                                    10|                                                       0.057|                                       4|\n",
            "|Iran (Islamic Rep...|Eastern Mediterra...|                 7535272|                                      8971.315|                                 7773|                                                      9.254|                                   1090|                   144048|                                          171.5|                                   228|                                                       0.271|                                      29|\n",
            "|              Mexico|            Americas|                 7041181|                                      5461.127|                                 7299|                                                      5.661|                                      0|                   329622|                                        255.654|                                    54|                                                       0.042|                                       0|\n",
            "|               China|     Western Pacific|                 6655733|                                       452.375|                               254259|                                                     17.281|                                  39674|                    25088|                                          1.705|                                   282|                                                       0.019|                                      30|\n",
            "|           Indonesia|     South-East Asia|                 6382002|                                      2333.254|                                23194|                                                       8.48|                                   3513|                   157717|                                         57.661|                                   151|                                                       0.055|                                      21|\n",
            "+--------------------+--------------------+------------------------+----------------------------------------------+-------------------------------------+-----------------------------------------------------------+---------------------------------------+-------------------------+-----------------------------------------------+--------------------------------------+------------------------------------------------------------+----------------------------------------+\n",
            "only showing top 20 rows\n",
            "\n"
          ]
        }
      ]
    },
    {
      "cell_type": "code",
      "source": [
        "from pyspark.sql.types import IntegerType\n",
        "df = df.withColumn('Cases - cumulative total', df['Cases - cumulative total'].cast(IntegerType()))\n",
        "df = df.withColumn('Cases - cumulative total per 100000 population', df['Cases - cumulative total per 100000 population'].cast(IntegerType()))\n",
        "df = df.withColumn('Cases - newly reported in last 7 days', df['Cases - newly reported in last 7 days'].cast(IntegerType()))\n",
        "df = df.withColumn('Cases - newly reported in last 7 days per 100000 population', df['Cases - newly reported in last 7 days per 100000 population'].cast(IntegerType()))\n",
        "df = df.withColumn('Cases - newly reported in last 24 hours', df['Cases - newly reported in last 24 hours'].cast(IntegerType()))\n",
        "\n",
        "df = df.withColumn('Deaths - cumulative total', df['Deaths - cumulative total'].cast(IntegerType()))\n",
        "df = df.withColumn('Deaths - cumulative total per 100000 population', df['Deaths - cumulative total per 100000 population'].cast(IntegerType()))\n",
        "df = df.withColumn('Deaths - newly reported in last 7 days', df['Deaths - newly reported in last 7 days'].cast(IntegerType()))\n",
        "df = df.withColumn('Deaths - newly reported in last 7 days per 100000 population', df['Deaths - newly reported in last 7 days per 100000 population'].cast(IntegerType()))\n",
        "df = df.withColumn('Deaths - newly reported in last 24 hours', df['Deaths - newly reported in last 24 hours'].cast(IntegerType()))"
      ],
      "metadata": {
        "id": "IPsOZSWTJYu9"
      },
      "execution_count": 52,
      "outputs": []
    },
    {
      "cell_type": "code",
      "source": [
        "df.printSchema()"
      ],
      "metadata": {
        "colab": {
          "base_uri": "https://localhost:8080/"
        },
        "id": "5QARbZnIGRLT",
        "outputId": "b3d1f03e-da59-4f17-edc2-ed853ef2d930"
      },
      "execution_count": 53,
      "outputs": [
        {
          "output_type": "stream",
          "name": "stdout",
          "text": [
            "root\n",
            " |-- Name: string (nullable = true)\n",
            " |-- WHO Region: string (nullable = true)\n",
            " |-- Cases - cumulative total: integer (nullable = true)\n",
            " |-- Cases - cumulative total per 100000 population: integer (nullable = true)\n",
            " |-- Cases - newly reported in last 7 days: integer (nullable = true)\n",
            " |-- Cases - newly reported in last 7 days per 100000 population: integer (nullable = true)\n",
            " |-- Cases - newly reported in last 24 hours: integer (nullable = true)\n",
            " |-- Deaths - cumulative total: integer (nullable = true)\n",
            " |-- Deaths - cumulative total per 100000 population: integer (nullable = true)\n",
            " |-- Deaths - newly reported in last 7 days: integer (nullable = true)\n",
            " |-- Deaths - newly reported in last 7 days per 100000 population: integer (nullable = true)\n",
            " |-- Deaths - newly reported in last 24 hours: integer (nullable = true)\n",
            "\n"
          ]
        }
      ]
    },
    {
      "cell_type": "code",
      "source": [
        "df.groupBy('WHO Region').sum('Cases - cumulative total',\n",
        "                             'Cases - cumulative total per 100000 population',\n",
        "                             'Cases - newly reported in last 7 days',\n",
        "                             'Cases - newly reported in last 7 days per 100000 population',\n",
        "                             'Cases - newly reported in last 24 hours',\n",
        "                             \n",
        "                             'Deaths - cumulative total',\n",
        "                             'Deaths - cumulative total per 100000 population',\n",
        "                             'Deaths - newly reported in last 7 days',\n",
        "                             'Deaths - newly reported in last 7 days per 100000 population',\n",
        "                             'Deaths - newly reported in last 24 hours').show()"
      ],
      "metadata": {
        "colab": {
          "base_uri": "https://localhost:8080/"
        },
        "id": "DJ1emIxhGcfL",
        "outputId": "d27a41d8-baf3-455f-bdc0-6d09e56fd6d1"
      },
      "execution_count": 55,
      "outputs": [
        {
          "output_type": "stream",
          "name": "stdout",
          "text": [
            "+--------------------+-----------------------------+---------------------------------------------------+------------------------------------------+----------------------------------------------------------------+--------------------------------------------+------------------------------+----------------------------------------------------+-------------------------------------------+-----------------------------------------------------------------+---------------------------------------------+\n",
            "|          WHO Region|sum(Cases - cumulative total)|sum(Cases - cumulative total per 100000 population)|sum(Cases - newly reported in last 7 days)|sum(Cases - newly reported in last 7 days per 100000 population)|sum(Cases - newly reported in last 24 hours)|sum(Deaths - cumulative total)|sum(Deaths - cumulative total per 100000 population)|sum(Deaths - newly reported in last 7 days)|sum(Deaths - newly reported in last 7 days per 100000 population)|sum(Deaths - newly reported in last 24 hours)|\n",
            "+--------------------+-----------------------------+---------------------------------------------------+------------------------------------------+----------------------------------------------------------------+--------------------------------------------+------------------------------+----------------------------------------------------+-------------------------------------------+-----------------------------------------------------------------+---------------------------------------------+\n",
            "|              Europe|                    249105808|                                            2038141|                                    988960|                                                            5587|                                      182316|                       2080678|                                               13524|                                       2626|                                                               10|                                          523|\n",
            "|     Western Pacific|                     85868508|                                             607120|                                   1806067|                                                            5439|                                      247343|                        263345|                                                1586|                                       3555|                                                                3|                                          514|\n",
            "|              Africa|                      9298893|                                             203643|                                     10542|                                                             925|                                         238|                        174350|                                                1410|                                         42|                                                                1|                                            1|\n",
            "|Eastern Mediterra...|                     23011442|                                             178501|                                     28094|                                                             351|                                        2933|                        347843|                                                1452|                                        299|                                                                0|                                           33|\n",
            "|               Other|                          764|                                                  0|                                         0|                                                               0|                                           0|                            13|                                                   0|                                          0|                                                                0|                                            0|\n",
            "|            Americas|                    176342137|                                            1208714|                                    696441|                                                            4414|                                       28836|                       2821706|                                                9390|                                       4500|                                                                4|                                          136|\n",
            "|     South-East Asia|                     60084208|                                              65047|                                     82449|                                                              58|                                       10916|                        796201|                                                 380|                                        531|                                                                0|                                           70|\n",
            "+--------------------+-----------------------------+---------------------------------------------------+------------------------------------------+----------------------------------------------------------------+--------------------------------------------+------------------------------+----------------------------------------------------+-------------------------------------------+-----------------------------------------------------------------+---------------------------------------------+\n",
            "\n"
          ]
        }
      ]
    }
  ]
}